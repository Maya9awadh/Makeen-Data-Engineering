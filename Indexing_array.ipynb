{
 "cells": [
  {
   "cell_type": "code",
   "execution_count": 1,
   "id": "a8fa32ad",
   "metadata": {},
   "outputs": [],
   "source": [
    "#import library\n",
    "import numpy as np"
   ]
  },
  {
   "cell_type": "code",
   "execution_count": 3,
   "id": "26ea77f3",
   "metadata": {},
   "outputs": [
    {
     "data": {
      "text/plain": [
       "3"
      ]
     },
     "execution_count": 3,
     "metadata": {},
     "output_type": "execute_result"
    }
   ],
   "source": [
    "#create a 1D numpy array with the integers from 0 to 9.Extract the 3rd elements from the array\n",
    "a=np.arange(0,10)\n",
    "a[3]"
   ]
  },
  {
   "cell_type": "code",
   "execution_count": 10,
   "id": "458906bd",
   "metadata": {},
   "outputs": [
    {
     "data": {
      "text/plain": [
       "2"
      ]
     },
     "execution_count": 10,
     "metadata": {},
     "output_type": "execute_result"
    }
   ],
   "source": [
    "#create a 2D numpy array with shape(3,3) and fill it with random numbers. Extract the elements \n",
    "#at row 2, column 1\n",
    "b=np.array([[1,1,1],\n",
    "           [2,2,2],\n",
    "           [3,3,3]])\n",
    "b[1][0]"
   ]
  },
  {
   "cell_type": "code",
   "execution_count": 9,
   "id": "220f2307",
   "metadata": {},
   "outputs": [
    {
     "data": {
      "text/plain": [
       "array([[1, 1, 1, 1],\n",
       "       [2, 2, 2, 2]])"
      ]
     },
     "execution_count": 9,
     "metadata": {},
     "output_type": "execute_result"
    }
   ],
   "source": [
    "#. Create a 2D NumPy array with shape (4, 4) and fill it with random numbers. Extract the subarray\n",
    "#consisting of the first 2 rows and the last 2 columns\n",
    "c=np.array([[1,1,1,1],[2,2,2,2],[3,3,3,3],[4,4,4,4]])\n",
    "c[:2][]"
   ]
  },
  {
   "cell_type": "code",
   "execution_count": 11,
   "id": "2c970939",
   "metadata": {},
   "outputs": [],
   "source": [
    "d=np.random.randint(1,10,size=(4,4),dtype=int)"
   ]
  },
  {
   "cell_type": "code",
   "execution_count": 12,
   "id": "b4f0d2ba",
   "metadata": {},
   "outputs": [
    {
     "data": {
      "text/plain": [
       "array([[6, 9, 1, 6],\n",
       "       [7, 6, 5, 2],\n",
       "       [3, 4, 1, 6],\n",
       "       [4, 3, 7, 1]])"
      ]
     },
     "execution_count": 12,
     "metadata": {},
     "output_type": "execute_result"
    }
   ],
   "source": [
    "d"
   ]
  },
  {
   "cell_type": "code",
   "execution_count": 17,
   "id": "c85251b3",
   "metadata": {},
   "outputs": [
    {
     "data": {
      "text/plain": [
       "array([[1, 6],\n",
       "       [5, 2]])"
      ]
     },
     "execution_count": 17,
     "metadata": {},
     "output_type": "execute_result"
    }
   ],
   "source": [
    "d[:2,-2:]"
   ]
  },
  {
   "cell_type": "code",
   "execution_count": 18,
   "id": "9b76a852",
   "metadata": {},
   "outputs": [
    {
     "data": {
      "text/plain": [
       "array([0, 1, 2])"
      ]
     },
     "execution_count": 18,
     "metadata": {},
     "output_type": "execute_result"
    }
   ],
   "source": [
    "#Create a 1D NumPy array with the integers from 0 to 9. Copy a slice of the array consisting of the\n",
    "#first 3 elements\n",
    "f=np.arange(0,10)\n",
    "f[:3]"
   ]
  },
  {
   "cell_type": "code",
   "execution_count": 19,
   "id": "b8cfee8b",
   "metadata": {},
   "outputs": [
    {
     "data": {
      "text/plain": [
       "array([[5, 3, 7],\n",
       "       [9, 8, 3],\n",
       "       [5, 7, 7]])"
      ]
     },
     "execution_count": 19,
     "metadata": {},
     "output_type": "execute_result"
    }
   ],
   "source": [
    "#Create a 2D NumPy array with shape (3, 3) and fill it with random numbers. Copy a slice of the\n",
    "#array consisting of the first 2 rows and the first 2 columns.\n",
    "l=np.random.randint(1,10,size=(3,3),dtype=int)\n",
    "l"
   ]
  },
  {
   "cell_type": "code",
   "execution_count": 20,
   "id": "d94e3017",
   "metadata": {},
   "outputs": [
    {
     "data": {
      "text/plain": [
       "array([[5, 3],\n",
       "       [9, 8]])"
      ]
     },
     "execution_count": 20,
     "metadata": {},
     "output_type": "execute_result"
    }
   ],
   "source": [
    "l[:2,:2]"
   ]
  },
  {
   "cell_type": "code",
   "execution_count": 26,
   "id": "caadef05",
   "metadata": {},
   "outputs": [
    {
     "data": {
      "text/plain": [
       "array([0, 1, 2, 3, 4, 5, 6, 7, 8])"
      ]
     },
     "execution_count": 26,
     "metadata": {},
     "output_type": "execute_result"
    }
   ],
   "source": [
    "#Create a 1D NumPy array with the integers from 0 to 9. Reshape the array into a 2D array with\n",
    "#shape (3, 3).\n",
    "g=np.arange(0,9)\n",
    "h=np.array(g)\n",
    "h"
   ]
  },
  {
   "cell_type": "code",
   "execution_count": 27,
   "id": "98e0f588",
   "metadata": {},
   "outputs": [
    {
     "data": {
      "text/plain": [
       "array([[0, 1, 2],\n",
       "       [3, 4, 5],\n",
       "       [6, 7, 8]])"
      ]
     },
     "execution_count": 27,
     "metadata": {},
     "output_type": "execute_result"
    }
   ],
   "source": [
    "h.reshape(3,3)"
   ]
  },
  {
   "cell_type": "code",
   "execution_count": 28,
   "id": "414d040a",
   "metadata": {},
   "outputs": [
    {
     "data": {
      "text/plain": [
       "array([6, 9, 1, 6, 7, 6, 5, 2, 3, 4, 1, 6, 4, 3, 7, 1])"
      ]
     },
     "execution_count": 28,
     "metadata": {},
     "output_type": "execute_result"
    }
   ],
   "source": [
    "#. Create a 2D NumPy array with shape (4, 4) and fill it with random numbers. Reshape the array\n",
    "#into a 1D array.\n",
    "d.flatten()"
   ]
  },
  {
   "cell_type": "code",
   "execution_count": 30,
   "id": "b2b666bd",
   "metadata": {},
   "outputs": [],
   "source": [
    "#Create two 1D NumPy arrays with the integers from 0 to 4. Concatenate the two arrays into a\n",
    "#single 1D array.\n",
    "a=np.arange(0,5)\n",
    "b=np.arange(0,5)\n"
   ]
  },
  {
   "cell_type": "code",
   "execution_count": 34,
   "id": "3c403f53",
   "metadata": {},
   "outputs": [
    {
     "data": {
      "text/plain": [
       "array([0, 1, 2, 3, 4, 0, 1, 2, 3, 4])"
      ]
     },
     "execution_count": 34,
     "metadata": {},
     "output_type": "execute_result"
    }
   ],
   "source": [
    "c=np.concatenate((a,b))\n",
    "c"
   ]
  },
  {
   "cell_type": "code",
   "execution_count": 44,
   "id": "ac79f429",
   "metadata": {},
   "outputs": [
    {
     "data": {
      "text/plain": [
       "array([[4, 2, 8, 6, 4],\n",
       "       [5, 7, 2, 5, 8]])"
      ]
     },
     "execution_count": 44,
     "metadata": {},
     "output_type": "execute_result"
    }
   ],
   "source": [
    "#. Create two 2D NumPy arrays with shapes (2, 2) and (2, 3). Concatenate the two arrays\n",
    "#horizontally.\n",
    "a=np.random.randint(1,10,size=(2,2),dtype=int)\n",
    "b=np.random.randint(1,10,size=(2,3),dtype=int)\n",
    "c=np.hstack((a,b))\n",
    "c"
   ]
  },
  {
   "cell_type": "code",
   "execution_count": 46,
   "id": "87faacf6",
   "metadata": {},
   "outputs": [
    {
     "data": {
      "text/plain": [
       "array([[2, 7],\n",
       "       [8, 1],\n",
       "       [2, 8],\n",
       "       [9, 4],\n",
       "       [4, 8]])"
      ]
     },
     "execution_count": 46,
     "metadata": {},
     "output_type": "execute_result"
    }
   ],
   "source": [
    "#10. Create two 2D NumPy arrays with shapes (2, 2) and (3, 2). Concatenate the two arrays vertically.\n",
    "a=np.random.randint(1,10,size=(2,2),dtype=int)\n",
    "b=np.random.randint(1,10,size=(3,2),dtype=int)\n",
    "c=np.vstack((a,b))\n",
    "c"
   ]
  },
  {
   "cell_type": "code",
   "execution_count": 53,
   "id": "034ef834",
   "metadata": {},
   "outputs": [
    {
     "data": {
      "text/plain": [
       "array([[ 0.79744167,  2.05053591, -1.74179981,  0.86282975,  2.63038641],\n",
       "       [ 3.95923553,  0.8828026 ,  2.63950793,  2.44816888,  0.90536845],\n",
       "       [ 5.05062125,  0.55916783,  3.39733489,  4.42647012, -0.0649806 ],\n",
       "       [-0.51877219,  2.25934255,  0.13383878,  1.28718184, -1.46961898],\n",
       "       [ 1.11069223,  1.08989466,  3.51358896,  1.62614925,  2.32063661]])"
      ]
     },
     "execution_count": 53,
     "metadata": {},
     "output_type": "execute_result"
    }
   ],
   "source": [
    "arr=2+1.5*np.random.randn(5,5)\n",
    "arr"
   ]
  },
  {
   "cell_type": "code",
   "execution_count": null,
   "id": "c4bcbf46",
   "metadata": {},
   "outputs": [],
   "source": [
    "#Create a 2D NumPy array with shape (4, 4) and fill it with random numbers. Split the array into\n",
    "#two equal horizontal halves.\n"
   ]
  },
  {
   "cell_type": "code",
   "execution_count": 54,
   "id": "a952db60",
   "metadata": {},
   "outputs": [
    {
     "name": "stdout",
     "output_type": "stream",
     "text": [
      "[-2  5  4 -8  0]\n"
     ]
    }
   ],
   "source": [
    "#create array\n",
    "A=np.array([-2,5,4,-8,0])\n",
    "print(A)\n"
   ]
  },
  {
   "cell_type": "code",
   "execution_count": 55,
   "id": "adc44beb",
   "metadata": {},
   "outputs": [
    {
     "name": "stdout",
     "output_type": "stream",
     "text": [
      "[-8 -2  0  4  5]\n"
     ]
    }
   ],
   "source": [
    "print(np.sort(A)) #Ascending"
   ]
  },
  {
   "cell_type": "code",
   "execution_count": 57,
   "id": "fb4003bb",
   "metadata": {},
   "outputs": [
    {
     "name": "stdout",
     "output_type": "stream",
     "text": [
      "[ 5  4  0 -2 -8]\n"
     ]
    }
   ],
   "source": [
    "print(np.flip(np.sort(A))) #Descending"
   ]
  },
  {
   "cell_type": "code",
   "execution_count": null,
   "id": "ba1d2403",
   "metadata": {},
   "outputs": [],
   "source": [
    "\n"
   ]
  }
 ],
 "metadata": {
  "kernelspec": {
   "display_name": "Python 3 (ipykernel)",
   "language": "python",
   "name": "python3"
  },
  "language_info": {
   "codemirror_mode": {
    "name": "ipython",
    "version": 3
   },
   "file_extension": ".py",
   "mimetype": "text/x-python",
   "name": "python",
   "nbconvert_exporter": "python",
   "pygments_lexer": "ipython3",
   "version": "3.9.13"
  }
 },
 "nbformat": 4,
 "nbformat_minor": 5
}
