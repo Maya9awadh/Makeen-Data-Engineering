{
 "cells": [
  {
   "cell_type": "code",
   "execution_count": 1,
   "id": "e90e7e55",
   "metadata": {},
   "outputs": [],
   "source": [
    "#import library\n",
    "import numpy as np"
   ]
  },
  {
   "cell_type": "code",
   "execution_count": 3,
   "id": "81595596",
   "metadata": {},
   "outputs": [
    {
     "data": {
      "text/plain": [
       "array([[2, 2, 7],\n",
       "       [5, 4, 1],\n",
       "       [3, 3, 7]])"
      ]
     },
     "execution_count": 3,
     "metadata": {},
     "output_type": "execute_result"
    }
   ],
   "source": [
    "#. Create a NumPy array with shape (3,3) and fill it with random numbers. Use the np.exp()\n",
    "#function to compute the exponential of each element in the array.\n",
    "arr=np.random.randint(1,10,size=(3,3),dtype=int)\n",
    "arr"
   ]
  },
  {
   "cell_type": "code",
   "execution_count": 4,
   "id": "c82fb866",
   "metadata": {},
   "outputs": [
    {
     "data": {
      "text/plain": [
       "array([[   7.3890561 ,    7.3890561 , 1096.63315843],\n",
       "       [ 148.4131591 ,   54.59815003,    2.71828183],\n",
       "       [  20.08553692,   20.08553692, 1096.63315843]])"
      ]
     },
     "execution_count": 4,
     "metadata": {},
     "output_type": "execute_result"
    }
   ],
   "source": [
    "np.exp(arr)"
   ]
  },
  {
   "cell_type": "code",
   "execution_count": 6,
   "id": "e6f002f9",
   "metadata": {},
   "outputs": [
    {
     "data": {
      "text/plain": [
       "array([[6, 2, 7, 4],\n",
       "       [3, 3, 1, 2],\n",
       "       [9, 6, 2, 2],\n",
       "       [5, 9, 9, 1]])"
      ]
     },
     "execution_count": 6,
     "metadata": {},
     "output_type": "execute_result"
    }
   ],
   "source": [
    "#Create a NumPy array with shape (4,4) and fill it with random numbers. Use the np.sin() function\n",
    "#to compute the sine of each element in the array.\n",
    "arr2=np.random.randint(1,10,size=(4,4),dtype=int)\n",
    "arr2"
   ]
  },
  {
   "cell_type": "code",
   "execution_count": 7,
   "id": "87675f6a",
   "metadata": {},
   "outputs": [
    {
     "data": {
      "text/plain": [
       "array([[-0.2794155 ,  0.90929743,  0.6569866 , -0.7568025 ],\n",
       "       [ 0.14112001,  0.14112001,  0.84147098,  0.90929743],\n",
       "       [ 0.41211849, -0.2794155 ,  0.90929743,  0.90929743],\n",
       "       [-0.95892427,  0.41211849,  0.41211849,  0.84147098]])"
      ]
     },
     "execution_count": 7,
     "metadata": {},
     "output_type": "execute_result"
    }
   ],
   "source": [
    "np.sin(arr2)"
   ]
  },
  {
   "cell_type": "code",
   "execution_count": 8,
   "id": "1f695bd8",
   "metadata": {},
   "outputs": [
    {
     "data": {
      "text/plain": [
       "array([[7, 4, 8, 5, 5],\n",
       "       [7, 8, 9, 3, 9],\n",
       "       [2, 2, 7, 7, 7],\n",
       "       [2, 4, 2, 6, 9],\n",
       "       [1, 7, 5, 2, 8]])"
      ]
     },
     "execution_count": 8,
     "metadata": {},
     "output_type": "execute_result"
    }
   ],
   "source": [
    "#Create a NumPy array with shape (5,5) and fill it with random numbers. Use the np.log()\n",
    "#function to compute the natural logarithm of each element in the array.\n",
    "arr3=np.random.randint(1,10,size=(5,5),dtype=int)\n",
    "arr3"
   ]
  },
  {
   "cell_type": "code",
   "execution_count": 9,
   "id": "b1d40e99",
   "metadata": {},
   "outputs": [
    {
     "data": {
      "text/plain": [
       "array([[1.94591015, 1.38629436, 2.07944154, 1.60943791, 1.60943791],\n",
       "       [1.94591015, 2.07944154, 2.19722458, 1.09861229, 2.19722458],\n",
       "       [0.69314718, 0.69314718, 1.94591015, 1.94591015, 1.94591015],\n",
       "       [0.69314718, 1.38629436, 0.69314718, 1.79175947, 2.19722458],\n",
       "       [0.        , 1.94591015, 1.60943791, 0.69314718, 2.07944154]])"
      ]
     },
     "execution_count": 9,
     "metadata": {},
     "output_type": "execute_result"
    }
   ],
   "source": [
    "np.log(arr3)"
   ]
  },
  {
   "cell_type": "code",
   "execution_count": 10,
   "id": "847b921f",
   "metadata": {},
   "outputs": [
    {
     "data": {
      "text/plain": [
       "array([[1, 7],\n",
       "       [6, 5]])"
      ]
     },
     "execution_count": 10,
     "metadata": {},
     "output_type": "execute_result"
    }
   ],
   "source": [
    "#Create a NumPy array with shape (2,2) and fill it with random numbers. Use the np.sqrt()\n",
    "#function to compute the square root of each element in the array.\n",
    "arr4=np.random.randint(1,10,size=(2,2),dtype=int)\n",
    "arr4"
   ]
  },
  {
   "cell_type": "code",
   "execution_count": 11,
   "id": "c511435c",
   "metadata": {},
   "outputs": [
    {
     "data": {
      "text/plain": [
       "array([[1.        , 2.64575131],\n",
       "       [2.44948974, 2.23606798]])"
      ]
     },
     "execution_count": 11,
     "metadata": {},
     "output_type": "execute_result"
    }
   ],
   "source": [
    "np.sqrt(arr4)"
   ]
  },
  {
   "cell_type": "code",
   "execution_count": 12,
   "id": "3645c33a",
   "metadata": {},
   "outputs": [
    {
     "data": {
      "text/plain": [
       "array([[2, 4, 7, 3, 5, 3],\n",
       "       [6, 2, 4, 2, 8, 5],\n",
       "       [5, 1, 6, 7, 5, 1],\n",
       "       [3, 2, 5, 7, 4, 5],\n",
       "       [1, 4, 9, 1, 9, 2],\n",
       "       [1, 9, 9, 3, 5, 4]])"
      ]
     },
     "execution_count": 12,
     "metadata": {},
     "output_type": "execute_result"
    }
   ],
   "source": [
    "#Create a NumPy array with shape (6,6) and fill it with random numbers. Use the np.floor()\n",
    "#function to round down each element in the array to the nearest integer.\n",
    "arr5=np.random.randint(1,10,size=(6,6),dtype=int)\n",
    "arr5"
   ]
  },
  {
   "cell_type": "code",
   "execution_count": 13,
   "id": "8e621355",
   "metadata": {},
   "outputs": [
    {
     "data": {
      "text/plain": [
       "array([[2., 4., 7., 3., 5., 3.],\n",
       "       [6., 2., 4., 2., 8., 5.],\n",
       "       [5., 1., 6., 7., 5., 1.],\n",
       "       [3., 2., 5., 7., 4., 5.],\n",
       "       [1., 4., 9., 1., 9., 2.],\n",
       "       [1., 9., 9., 3., 5., 4.]])"
      ]
     },
     "execution_count": 13,
     "metadata": {},
     "output_type": "execute_result"
    }
   ],
   "source": [
    "np.floor(arr5)"
   ]
  },
  {
   "cell_type": "code",
   "execution_count": 14,
   "id": "512b2077",
   "metadata": {},
   "outputs": [
    {
     "data": {
      "text/plain": [
       "array([[5, 1, 4],\n",
       "       [7, 9, 4],\n",
       "       [1, 2, 6]])"
      ]
     },
     "execution_count": 14,
     "metadata": {},
     "output_type": "execute_result"
    }
   ],
   "source": [
    "#Create a NumPy array with shape (3,3) and fill it with random numbers. Use the np.abs()\n",
    "#function to compute the absolute value of each element in the array.\n",
    "arr6=np.random.randint(1,10,size=(3,3),dtype=int)\n",
    "arr6"
   ]
  },
  {
   "cell_type": "code",
   "execution_count": 15,
   "id": "ad181ff2",
   "metadata": {},
   "outputs": [
    {
     "data": {
      "text/plain": [
       "array([[5, 1, 4],\n",
       "       [7, 9, 4],\n",
       "       [1, 2, 6]])"
      ]
     },
     "execution_count": 15,
     "metadata": {},
     "output_type": "execute_result"
    }
   ],
   "source": [
    "np.abs(arr6)"
   ]
  },
  {
   "cell_type": "code",
   "execution_count": 16,
   "id": "3c48f192",
   "metadata": {},
   "outputs": [
    {
     "data": {
      "text/plain": [
       "array([[4, 8, 6, 5],\n",
       "       [8, 9, 4, 9],\n",
       "       [7, 2, 3, 9],\n",
       "       [9, 7, 7, 6]])"
      ]
     },
     "execution_count": 16,
     "metadata": {},
     "output_type": "execute_result"
    }
   ],
   "source": [
    "#Create a NumPy array with shape (4,4) and fill it with random numbers. Use the np.power()\n",
    "#function to raise each element in the array to the power of 2.\n",
    "arr7=np.random.randint(1,10,size=(4,4),dtype=int)\n",
    "arr7"
   ]
  },
  {
   "cell_type": "code",
   "execution_count": 18,
   "id": "766804d0",
   "metadata": {},
   "outputs": [
    {
     "data": {
      "text/plain": [
       "array([[16, 64, 36, 25],\n",
       "       [64, 81, 16, 81],\n",
       "       [49,  4,  9, 81],\n",
       "       [81, 49, 49, 36]], dtype=int32)"
      ]
     },
     "execution_count": 18,
     "metadata": {},
     "output_type": "execute_result"
    }
   ],
   "source": [
    "np.power(arr7,2)"
   ]
  },
  {
   "cell_type": "code",
   "execution_count": 19,
   "id": "034cc1b0",
   "metadata": {},
   "outputs": [
    {
     "data": {
      "text/plain": [
       "array([5, 7, 6, 5, 6])"
      ]
     },
     "execution_count": 19,
     "metadata": {},
     "output_type": "execute_result"
    }
   ],
   "source": [
    "#Create a NumPy array with 5 random integers between 1 and 10. Use the maximum function to\n",
    "#find the largest element in the array.\n",
    "arr8=np.random.randint(1,10,size=5,dtype=int)\n",
    "arr8"
   ]
  },
  {
   "cell_type": "code",
   "execution_count": 20,
   "id": "3e184300",
   "metadata": {},
   "outputs": [
    {
     "data": {
      "text/plain": [
       "7"
      ]
     },
     "execution_count": 20,
     "metadata": {},
     "output_type": "execute_result"
    }
   ],
   "source": [
    "np.max(arr8)"
   ]
  },
  {
   "cell_type": "code",
   "execution_count": 22,
   "id": "60003011",
   "metadata": {},
   "outputs": [
    {
     "data": {
      "text/plain": [
       "array([0.59699158, 0.53971305, 0.9646726 , 0.10134814, 0.91379   ,\n",
       "       0.59231266, 0.72490405, 0.19131941, 0.75518913, 0.57622789])"
      ]
     },
     "execution_count": 22,
     "metadata": {},
     "output_type": "execute_result"
    }
   ],
   "source": [
    "#Create a NumPy array with 10 random floating-point numbers between 0 and 1. Use the round\n",
    "#function to round each element to the nearest integer.\n",
    "arr9=np.random.rand(10)\n",
    "arr9"
   ]
  },
  {
   "cell_type": "code",
   "execution_count": 23,
   "id": "5de35cc3",
   "metadata": {},
   "outputs": [
    {
     "data": {
      "text/plain": [
       "array([1., 1., 1., 0., 1., 1., 1., 0., 1., 1.])"
      ]
     },
     "execution_count": 23,
     "metadata": {},
     "output_type": "execute_result"
    }
   ],
   "source": [
    "np.round(arr9)"
   ]
  },
  {
   "cell_type": "code",
   "execution_count": 24,
   "id": "f2992c27",
   "metadata": {},
   "outputs": [
    {
     "data": {
      "text/plain": [
       "array([65, 68, 70, 75, 28, 73, 69])"
      ]
     },
     "execution_count": 24,
     "metadata": {},
     "output_type": "execute_result"
    }
   ],
   "source": [
    "#Create a NumPy array with 7 random integers between 1 and 100. Use the argmax function to\n",
    "#find the index of the largest element in the array.\n",
    "arr10=np.random.randint(1,100,size=7,dtype=int)\n",
    "arr10"
   ]
  },
  {
   "cell_type": "code",
   "execution_count": 25,
   "id": "ce10c2e5",
   "metadata": {},
   "outputs": [
    {
     "data": {
      "text/plain": [
       "3"
      ]
     },
     "execution_count": 25,
     "metadata": {},
     "output_type": "execute_result"
    }
   ],
   "source": [
    "np.argmax(arr10)"
   ]
  },
  {
   "cell_type": "code",
   "execution_count": 26,
   "id": "8fd778f0",
   "metadata": {},
   "outputs": [
    {
     "data": {
      "text/plain": [
       "array([[5, 7, 8, 7],\n",
       "       [9, 8, 7, 3],\n",
       "       [6, 6, 5, 4],\n",
       "       [4, 5, 1, 9]])"
      ]
     },
     "execution_count": 26,
     "metadata": {},
     "output_type": "execute_result"
    }
   ],
   "source": [
    "#Create two NumPy arrays with the same shape, each filled with random integers between 1 and\n",
    "#Use the add function to add the two arrays together element-wise.\n",
    "arr11=np.random.randint(1,10,size=(4,4),dtype=int)\n",
    "arr11"
   ]
  },
  {
   "cell_type": "code",
   "execution_count": 27,
   "id": "4ea101cc",
   "metadata": {},
   "outputs": [
    {
     "data": {
      "text/plain": [
       "array([[4, 1, 8, 1],\n",
       "       [2, 3, 6, 2],\n",
       "       [1, 9, 2, 8],\n",
       "       [8, 2, 6, 3]])"
      ]
     },
     "execution_count": 27,
     "metadata": {},
     "output_type": "execute_result"
    }
   ],
   "source": [
    "arr12=np.random.randint(1,10,size=(4,4),dtype=int)\n",
    "arr12"
   ]
  },
  {
   "cell_type": "code",
   "execution_count": 29,
   "id": "11eb43c8",
   "metadata": {},
   "outputs": [
    {
     "data": {
      "text/plain": [
       "array([[ 9,  8, 16,  8],\n",
       "       [11, 11, 13,  5],\n",
       "       [ 7, 15,  7, 12],\n",
       "       [12,  7,  7, 12]])"
      ]
     },
     "execution_count": 29,
     "metadata": {},
     "output_type": "execute_result"
    }
   ],
   "source": [
    "np.add(arr11,arr12)"
   ]
  },
  {
   "cell_type": "code",
   "execution_count": 30,
   "id": "e7aeec17",
   "metadata": {},
   "outputs": [
    {
     "data": {
      "text/plain": [
       "array([40, 65, 99, 18, 60, 17, 88, 62, 61, 81, 15,  3])"
      ]
     },
     "execution_count": 30,
     "metadata": {},
     "output_type": "execute_result"
    }
   ],
   "source": [
    "#Create a NumPy array with 12 random integers between 0 and 100. Use the clip function to limit\n",
    "#the values in the array to a range between 10 and 90.\n",
    "arr12=np.random.randint(0,100,size=12,dtype=int)\n",
    "arr12"
   ]
  },
  {
   "cell_type": "code",
   "execution_count": 32,
   "id": "75320578",
   "metadata": {},
   "outputs": [
    {
     "data": {
      "text/plain": [
       "array([40, 65, 90, 18, 60, 17, 88, 62, 61, 81, 15, 10])"
      ]
     },
     "execution_count": 32,
     "metadata": {},
     "output_type": "execute_result"
    }
   ],
   "source": [
    "np.clip(arr12,10,90)"
   ]
  },
  {
   "cell_type": "code",
   "execution_count": null,
   "id": "8543cdfd",
   "metadata": {},
   "outputs": [],
   "source": []
  }
 ],
 "metadata": {
  "kernelspec": {
   "display_name": "Python 3 (ipykernel)",
   "language": "python",
   "name": "python3"
  },
  "language_info": {
   "codemirror_mode": {
    "name": "ipython",
    "version": 3
   },
   "file_extension": ".py",
   "mimetype": "text/x-python",
   "name": "python",
   "nbconvert_exporter": "python",
   "pygments_lexer": "ipython3",
   "version": "3.9.13"
  }
 },
 "nbformat": 4,
 "nbformat_minor": 5
}
