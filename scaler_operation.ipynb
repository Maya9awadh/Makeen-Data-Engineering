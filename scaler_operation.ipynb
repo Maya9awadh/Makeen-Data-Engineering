{
 "cells": [
  {
   "cell_type": "code",
   "execution_count": 2,
   "id": "fd26f3ba",
   "metadata": {},
   "outputs": [],
   "source": [
    "#import library\n",
    "import numpy as np"
   ]
  },
  {
   "cell_type": "code",
   "execution_count": 4,
   "id": "ab0d6870",
   "metadata": {},
   "outputs": [
    {
     "data": {
      "text/plain": [
       "array([[2, 2],\n",
       "       [4, 4]])"
      ]
     },
     "execution_count": 4,
     "metadata": {},
     "output_type": "execute_result"
    }
   ],
   "source": [
    "#create a 2*2 Numpy array and multiply it by 2\n",
    "np.array([[1,1],[2,2]])*2"
   ]
  },
  {
   "cell_type": "code",
   "execution_count": 5,
   "id": "75cd0be6",
   "metadata": {},
   "outputs": [
    {
     "data": {
      "text/plain": [
       "array([[6, 6, 6],\n",
       "       [7, 7, 7],\n",
       "       [8, 8, 8]])"
      ]
     },
     "execution_count": 5,
     "metadata": {},
     "output_type": "execute_result"
    }
   ],
   "source": [
    "#create a 3*3 Numpy array add 5 to each elements\n",
    "np.array([[1,1,1],[2,2,2],[3,3,3]])+5"
   ]
  },
  {
   "cell_type": "code",
   "execution_count": 6,
   "id": "8f235810",
   "metadata": {},
   "outputs": [
    {
     "data": {
      "text/plain": [
       "array([[-9, -9, -9, -9],\n",
       "       [-8, -8, -8, -8],\n",
       "       [-7, -7, -7, -7],\n",
       "       [-6, -6, -6, -6]])"
      ]
     },
     "execution_count": 6,
     "metadata": {},
     "output_type": "execute_result"
    }
   ],
   "source": [
    "#create a 4*4 numpy array and subtract 10 from each elements\n",
    "np.array([[1,1,1,1],[2,2,2,2],[3,3,3,3],[4,4,4,4]])-10"
   ]
  },
  {
   "cell_type": "code",
   "execution_count": 9,
   "id": "a1d01575",
   "metadata": {},
   "outputs": [
    {
     "data": {
      "text/plain": [
       "array([[1., 1., 1., 1., 1.],\n",
       "       [2., 2., 2., 2., 2.],\n",
       "       [3., 3., 3., 3., 3.],\n",
       "       [4., 4., 4., 4., 4.],\n",
       "       [5., 5., 5., 5., 5.]])"
      ]
     },
     "execution_count": 9,
     "metadata": {},
     "output_type": "execute_result"
    }
   ],
   "source": [
    "#create a 5*5 numpy array and divide each element by 2\n",
    "np.array([[2,2,2,2,2],\n",
    "          [4,4,4,4,4],\n",
    "         [6,6,6,6,6],\n",
    "         [8,8,8,8,8],\n",
    "         [10,10,10,10,10]])/2"
   ]
  },
  {
   "cell_type": "code",
   "execution_count": 13,
   "id": "edb72a15",
   "metadata": {},
   "outputs": [
    {
     "data": {
      "text/plain": [
       "array([[1.        , 1.        , 1.        , 1.        , 1.        ,\n",
       "        1.        ],\n",
       "       [1.41421356, 1.41421356, 1.41421356, 1.41421356, 1.41421356,\n",
       "        1.41421356],\n",
       "       [1.73205081, 1.73205081, 1.73205081, 1.73205081, 1.73205081,\n",
       "        1.73205081],\n",
       "       [2.        , 2.        , 2.        , 2.        , 2.        ,\n",
       "        2.        ],\n",
       "       [2.23606798, 2.23606798, 2.23606798, 2.23606798, 2.23606798,\n",
       "        2.23606798],\n",
       "       [2.44948974, 2.44948974, 2.44948974, 2.44948974, 2.44948974,\n",
       "        2.44948974]])"
      ]
     },
     "execution_count": 13,
     "metadata": {},
     "output_type": "execute_result"
    }
   ],
   "source": [
    "#create a 6*6 numpy array and calculate the square root of each element\n",
    "np.sqrt(np.array([[1, 1, 1, 1, 1,1],\n",
    "       [2, 2, 2, 2, 2,2],\n",
    "       [3, 3, 3, 3, 3,3],\n",
    "       [4, 4, 4, 4, 4,4],\n",
    "       [5, 5, 5, 5, 5,5],\n",
    "       [6,6,6,6,6,6]]))"
   ]
  },
  {
   "cell_type": "code",
   "execution_count": null,
   "id": "9b249f68",
   "metadata": {},
   "outputs": [],
   "source": []
  }
 ],
 "metadata": {
  "kernelspec": {
   "display_name": "Python 3 (ipykernel)",
   "language": "python",
   "name": "python3"
  },
  "language_info": {
   "codemirror_mode": {
    "name": "ipython",
    "version": 3
   },
   "file_extension": ".py",
   "mimetype": "text/x-python",
   "name": "python",
   "nbconvert_exporter": "python",
   "pygments_lexer": "ipython3",
   "version": "3.9.13"
  }
 },
 "nbformat": 4,
 "nbformat_minor": 5
}
